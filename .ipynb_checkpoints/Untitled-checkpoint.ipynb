{
 "cells": [
  {
   "cell_type": "code",
   "execution_count": 45,
   "metadata": {
    "collapsed": true
   },
   "outputs": [],
   "source": [
    "import json\n",
    "import os"
   ]
  },
  {
   "cell_type": "code",
   "execution_count": 54,
   "metadata": {
    "collapsed": true
   },
   "outputs": [],
   "source": [
    "rules = []"
   ]
  },
  {
   "cell_type": "code",
   "execution_count": 55,
   "metadata": {
    "collapsed": true
   },
   "outputs": [],
   "source": [
    "def createrule(id, condition, result, description):\n",
    "    rule = {}\n",
    "    rule[\"id\"] = id\n",
    "    rule[\"condition\"] = condition\n",
    "    rule[\"result\"] = result\n",
    "    rule[\"description\"] = description\n",
    "    return rule"
   ]
  },
  {
   "cell_type": "code",
   "execution_count": 62,
   "metadata": {
    "collapsed": false
   },
   "outputs": [],
   "source": [
    "def loadrules(filename):\n",
    "    with open(filename) as f:\n",
    "        lines = f.readlines()\n",
    "    for l in lines:\n",
    "        if(l != '\\n'):\n",
    "            print l\n",
    "            parts = l.split(\"\\t\")\n",
    "            rules.append(createrule(parts[0],parts[1],parts[2],parts[3]))"
   ]
  },
  {
   "cell_type": "code",
   "execution_count": 63,
   "metadata": {
    "collapsed": false
   },
   "outputs": [
    {
     "name": "stdout",
     "output_type": "stream",
     "text": [
      "1\t[\"天气：炎热\",\"湿度：干燥\"]\t\"level:1-4\"\t\"酷热，很不舒适，中暑温度40\"\n",
      "\n",
      "2\t[\"天气：炎热\",\"湿度：正常\"]\t\"level:1-3\"\t\"闷热，不舒适\"\n",
      "\n",
      "3\t[\"天气：热\",\"湿度：正常\"]\t\"level:1-2\"\t\"炎热，不舒适\"\n",
      "\n",
      "4\t[\"天气：热\",\"湿度：潮湿\"]\t\"level:1-1\"\t\"热，较不舒适，中暑温度\"\n",
      "\n",
      "5\t[\"天气：热舒适\",\"湿度：潮湿\",\"风力：小\"]\t\"level:1-1\"\t\"因为过于潮湿，导致减小一级。热，较不舒适，中暑温度31\"\n",
      "\n",
      "6\t[\"天气：热舒适\",\"湿度：正常\",\"风力：小\"]\t\"level:2\"\t\"天气偏热。穿衣厚度0~1.5\"\n",
      "\n",
      "7\t[\"天气：热舒适\",\"风力：大\"]\t\"level:3\"\t\"因为风力大，因此增加一个等级。较舒适，穿衣厚度1.5~2.4\"\n",
      "\n",
      "8\t[\"天气：较舒适\"]\t\"level:3\"\t\"较舒适，穿衣厚度1.5~2.4\"\n",
      "\n",
      "9\t[\"天气：舒适\"]\t\"level:4\"\t\"舒适，穿衣厚度2.41~6.0\"\n",
      "\n",
      "10\t[\"天气：温凉\"]\t\"level:5\"\t\"温凉，舒适，穿衣厚度6.0~7.0\"\n",
      "\n",
      "11\t[\"天气：凉\"]\t\"level:6\"\t\"凉，穿衣厚度7.0~10.0\"\n",
      "\n",
      "12\t[\"天气：微冷\"]\t\"level:7-1\"\t\"微冷，穿衣厚度10.0~11.0\"\n",
      "\n",
      "13\t[\"天气：较冷\",\"风力：小\"]\t\"level:7-2\"\t\"较冷，穿衣厚度11~12\"\n",
      "\n",
      "14\t[\"天气：较冷\",\"风力：大\"]\t\"level:7-3\"\t\"因为风力过大，导致增加一个等级。冷，穿衣厚度12~13\"\n",
      "\n",
      "15\t[\"天气：较冷\",\"湿度：潮湿\"]\t\"level:7-3\"\t\"因为过于潮湿，导致增加一个等级。冷，穿衣厚度12~13\"\n",
      "\n",
      "16\t[\"天气：冷\",\"风力：小\"]\t\"level:7-3\"\t\"冷，穿衣厚度12~13\"\n",
      "\n",
      "17\t[\"天气：冷\",\"风力：大\"]\t\"level:8-1\"\t\"因为风力过大，导致增加一个等级。寒冷，穿衣厚度大于\"\n",
      "\n",
      "18\t[\"天气：冷\",\"湿度：潮湿\"]\t\"level:8-1\"\t\"因为过于潮湿，导致增加一个等级。寒冷，穿衣厚度大于13\"\n",
      "\n",
      "19\t[\"天气：寒冷\",\"风力：小\"]\t\"level:8-1\"\t\"寒冷，穿衣厚度大于13\"\n",
      "\n",
      "20\t[\"天气：寒冷\",\"风力：大\"]\t\"level:8-2\"\t\"因为风力过大，导致增加一个等级。温度极低，穿衣厚度大于15\"\n",
      "\n",
      "21\t[\"天气：寒冷\",\"湿度：潮湿\"]\t\"level:8-2\"\t\"因为过于潮湿，导致增加一个等级。温度极低，穿衣厚度大于15\"\n",
      "\n",
      "22\t[\"天气：寒冷\",\"风力：大\"]\t\"level:8-2\"\t\"温度极低，穿衣厚度大于15\"\n",
      "\n",
      "23\t[\"天气：寒冷\",\"风力：大\",\"湿度：潮湿\"]\t\"level:8-3\"\t\"因为过于潮湿，导致增加一个等级。温度极低，穿衣厚度大于15\"\n",
      "\n",
      "24\t[\"天气：极冷\"]\t\"level:8-3\"\t\"温度极低，穿衣厚度大于15\"\n",
      "\n",
      "\n",
      "\n"
     ]
    },
    {
     "ename": "IndexError",
     "evalue": "list index out of range",
     "output_type": "error",
     "traceback": [
      "\u001b[0;31m---------------------------------------------------------------------------\u001b[0m",
      "\u001b[0;31mIndexError\u001b[0m                                Traceback (most recent call last)",
      "\u001b[0;32m<ipython-input-63-e97ebc3ee85a>\u001b[0m in \u001b[0;36m<module>\u001b[0;34m()\u001b[0m\n\u001b[0;32m----> 1\u001b[0;31m \u001b[0mloadrules\u001b[0m\u001b[1;33m(\u001b[0m\u001b[1;34m\"rules.txt\"\u001b[0m\u001b[1;33m)\u001b[0m\u001b[1;33m\u001b[0m\u001b[0m\n\u001b[0m",
      "\u001b[0;32m<ipython-input-62-531a6c91504c>\u001b[0m in \u001b[0;36mloadrules\u001b[0;34m(filename)\u001b[0m\n\u001b[1;32m      6\u001b[0m             \u001b[1;32mprint\u001b[0m \u001b[0ml\u001b[0m\u001b[1;33m\u001b[0m\u001b[0m\n\u001b[1;32m      7\u001b[0m             \u001b[0mparts\u001b[0m \u001b[1;33m=\u001b[0m \u001b[0ml\u001b[0m\u001b[1;33m.\u001b[0m\u001b[0msplit\u001b[0m\u001b[1;33m(\u001b[0m\u001b[1;34m\"\\t\"\u001b[0m\u001b[1;33m)\u001b[0m\u001b[1;33m\u001b[0m\u001b[0m\n\u001b[0;32m----> 8\u001b[0;31m             \u001b[0mrules\u001b[0m\u001b[1;33m.\u001b[0m\u001b[0mappend\u001b[0m\u001b[1;33m(\u001b[0m\u001b[0mcreaterule\u001b[0m\u001b[1;33m(\u001b[0m\u001b[0mparts\u001b[0m\u001b[1;33m[\u001b[0m\u001b[1;36m0\u001b[0m\u001b[1;33m]\u001b[0m\u001b[1;33m,\u001b[0m\u001b[0mparts\u001b[0m\u001b[1;33m[\u001b[0m\u001b[1;36m1\u001b[0m\u001b[1;33m]\u001b[0m\u001b[1;33m,\u001b[0m\u001b[0mparts\u001b[0m\u001b[1;33m[\u001b[0m\u001b[1;36m2\u001b[0m\u001b[1;33m]\u001b[0m\u001b[1;33m,\u001b[0m\u001b[0mparts\u001b[0m\u001b[1;33m[\u001b[0m\u001b[1;36m3\u001b[0m\u001b[1;33m]\u001b[0m\u001b[1;33m)\u001b[0m\u001b[1;33m)\u001b[0m\u001b[1;33m\u001b[0m\u001b[0m\n\u001b[0m",
      "\u001b[0;31mIndexError\u001b[0m: list index out of range"
     ]
    }
   ],
   "source": [
    "loadrules(\"rules.txt\")"
   ]
  },
  {
   "cell_type": "code",
   "execution_count": null,
   "metadata": {
    "collapsed": true
   },
   "outputs": [],
   "source": []
  }
 ],
 "metadata": {
  "kernelspec": {
   "display_name": "Python 2",
   "language": "python",
   "name": "python2"
  },
  "language_info": {
   "codemirror_mode": {
    "name": "ipython",
    "version": 2
   },
   "file_extension": ".py",
   "mimetype": "text/x-python",
   "name": "python",
   "nbconvert_exporter": "python",
   "pygments_lexer": "ipython2",
   "version": "2.7.13"
  }
 },
 "nbformat": 4,
 "nbformat_minor": 2
}
