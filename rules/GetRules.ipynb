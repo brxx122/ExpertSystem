{
 "cells": [
  {
   "cell_type": "code",
   "execution_count": 1,
   "metadata": {
    "collapsed": true
   },
   "outputs": [],
   "source": [
    "import json"
   ]
  },
  {
   "cell_type": "code",
   "execution_count": 2,
   "metadata": {
    "collapsed": true
   },
   "outputs": [],
   "source": [
    "def createrule(id, condition, result, description):\n",
    "    rule = {}\n",
    "    rule[\"id\"] = id\n",
    "    rule[\"condition\"] = condition\n",
    "    rule[\"result\"] = result\n",
    "    rule[\"description\"] = description\n",
    "    return rule"
   ]
  },
  {
   "cell_type": "code",
   "execution_count": 3,
   "metadata": {
    "collapsed": false
   },
   "outputs": [],
   "source": [
    "def loadrules(filename):\n",
    "    rules = []\n",
    "    with open(filename) as f:\n",
    "        lines = f.readlines()\n",
    "    for l in lines:\n",
    "        if(l != '\\n'):\n",
    "            parts = l.split(\"\\t\")\n",
    "            cond = parts[1][1:-1].split(',')\n",
    "            condlist = []\n",
    "            for c in cond:\n",
    "                condlist.append(c[1:-1])\n",
    "            # print len(condlist)\n",
    "            rules.append(createrule(parts[0],condlist,parts[2][1:-1],parts[3][1:-2]))\n",
    "    return rules"
   ]
  },
  {
   "cell_type": "code",
   "execution_count": 9,
   "metadata": {
    "collapsed": true
   },
   "outputs": [],
   "source": [
    "def saverulesjson():\n",
    "    with open(\"rules.default.json\",'w') as f:\n",
    "        json.dump(rules,f)\n",
    "def loadrulesjson():\n",
    "    with open(\"rules.default.json\") as f:\n",
    "        rules = json.load(f)\n",
    "    return rules"
   ]
  },
  {
   "cell_type": "code",
   "execution_count": 10,
   "metadata": {
    "collapsed": true
   },
   "outputs": [],
   "source": [
    "rules = loadrules(\"rules.txt\")\n",
    "saverulesjson()"
   ]
  }
 ],
 "metadata": {
  "kernelspec": {
   "display_name": "Python 2",
   "language": "python",
   "name": "python2"
  },
  "language_info": {
   "codemirror_mode": {
    "name": "ipython",
    "version": 2.0
   },
   "file_extension": ".py",
   "mimetype": "text/x-python",
   "name": "python",
   "nbconvert_exporter": "python",
   "pygments_lexer": "ipython2",
   "version": "2.7.13"
  }
 },
 "nbformat": 4,
 "nbformat_minor": 0
}